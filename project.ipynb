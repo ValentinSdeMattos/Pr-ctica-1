import requests
import json

dates = ["01-01-2024", "01-07-2024"]
base_url = "https://api.coingecko.com/api/v3/coins/bitcoin/history?date="
data = []

def get_bitcoin_data(date):
    url = base_url + date
    try:
        response = requests.get(url)
        if response.status_code == 200:
            result = response.json()
            price_usd = result.get("market_data", {}).get("current_price", {}).get("usd", None)
            price_eur = result.get("market_data", {}).get("current_price", {}).get("eur", None)
            market_cap = result.get("market_data", {}).get("market_cap", {}).get("usd", None)

            return {
                "date": date,
                "price_usd": price_usd,
                "price_eur": price_eur,
                "market_cap": market_cap
            }
        else:
            print(f"Error al consultar la fecha {date}: Código de estado {response.status_code}")
            return {
                "date": date,
                "price_usd": None,
                "price_eur": None,
                "market_cap": None
            }
    except Exception as e:
        print(f"Excepción al consultar la fecha {date}: {e}")
        return {
            "date": date,
            "price_usd": None,
            "price_eur": None,
            "market_cap": None
        }

for date in dates:
    data.append(get_bitcoin_data(date))

bitcoin_data = {"data": data}

with open('bitcoin_historical_data.json', 'w') as json_file:
    json.dump(bitcoin_data, json_file, indent=4)

print("Datos guardados en 'bitcoin_historical_data.json'")
